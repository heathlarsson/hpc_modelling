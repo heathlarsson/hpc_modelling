{
 "cells": [
  {
   "cell_type": "code",
   "execution_count": 4,
   "metadata": {},
   "outputs": [],
   "source": [
    "from brian2 import *"
   ]
  },
  {
   "cell_type": "code",
   "execution_count": 6,
   "metadata": {},
   "outputs": [
    {
     "ename": "NameError",
     "evalue": "name 'StateMmonitor' is not defined",
     "output_type": "error",
     "traceback": [
      "\u001b[1;31m---------------------------------------------------------------------------\u001b[0m",
      "\u001b[1;31mNameError\u001b[0m                                 Traceback (most recent call last)",
      "Cell \u001b[1;32mIn[6], line 28\u001b[0m\n\u001b[0;32m     26\u001b[0m neuron\u001b[39m.\u001b[39mv \u001b[39m=\u001b[39m \u001b[39m-\u001b[39m\u001b[39m70\u001b[39m\u001b[39m*\u001b[39mmV\n\u001b[0;32m     27\u001b[0m neuron\u001b[39m.\u001b[39mh \u001b[39m=\u001b[39m \u001b[39m1\u001b[39m\n\u001b[1;32m---> 28\u001b[0m M \u001b[39m=\u001b[39m StateMmonitor(neuron, \u001b[39m'\u001b[39m\u001b[39mv\u001b[39m\u001b[39m'\u001b[39m, record\u001b[39m=\u001b[39m\u001b[39m0\u001b[39m)\n\u001b[0;32m     30\u001b[0m run(\u001b[39m100\u001b[39m\u001b[39m*\u001b[39mms, report\u001b[39m=\u001b[39m\u001b[39m'\u001b[39m\u001b[39mtext\u001b[39m\u001b[39m'\u001b[39m)\n\u001b[0;32m     32\u001b[0m plot(M\u001b[39m.\u001b[39mt\u001b[39m/\u001b[39mms, M[\u001b[39m0\u001b[39m]\u001b[39m.\u001b[39mv\u001b[39m/\u001b[39mmV)\n",
      "\u001b[1;31mNameError\u001b[0m: name 'StateMmonitor' is not defined"
     ]
    }
   ],
   "source": [
    "\n",
    "\n",
    "defaultclock.dt = 0.01*ms\n",
    "\n",
    "Cm = 1*uF # /cm**2\n",
    "Iapp = 2*uA\n",
    "gL = 0.1*msiemens\n",
    "EL = -65*mV\n",
    "ENa = 55*mV\n",
    "EK = -90*mV\n",
    "gNa = 35*msiemens\n",
    "gK = 9*msiemens\n",
    "\n",
    "eqs = '''\n",
    "dv/dt = (-gNa*m**3*h*(v-ENa)-gK*n**4*(v-EK)-gL*(v-EL)+Iapp)/Cm : volt\n",
    "m = alpha_m/(alpha_m+beta_m) : 1\n",
    "alpha_m = 0.1/mV*10*mV/exprel(-(v+35*mV)/(10*mV))/ms : Hz\n",
    "beta_m = 4*exp(-(v+60*mV)/(18*mV))/ms : Hz\n",
    "dh/dt = 5*(alpha_h*(1-h)-beta_h*h) : 1\n",
    "alpha_h = 0.07*exp(-(v+58*mV)/(20*mV))/ms : Hz\n",
    "beta_h = 1./(exp(-0.1/mV*(v+28*mV))+1)/ms : Hz\n",
    "dn/dt = 5*(alpha_n*(1-n)-beta_n*n) : 1\n",
    "alpha_n = 0.01/mV*10*mV/exprel(-(v+34*mV)/(10*mV))/ms : Hz\n",
    "beta_n = 0.125*exp(-(v+44*mV)/(80*mV))/ms : Hz\n",
    "'''\n",
    "\n",
    "neuron = NeuronGroup(1, eqs, method='exponential_euler')\n",
    "neuron.v = -70*mV\n",
    "neuron.h = 1\n",
    "M = StateMmonitor(neuron, 'v', record=0)\n",
    "\n",
    "run(100*ms, report='text')\n",
    "\n",
    "plot(M.t/ms, M[0].v/mV)\n",
    "show()"
   ]
  }
 ],
 "metadata": {
  "kernelspec": {
   "display_name": "hpc_modelling",
   "language": "python",
   "name": "python3"
  },
  "language_info": {
   "codemirror_mode": {
    "name": "ipython",
    "version": 3
   },
   "file_extension": ".py",
   "mimetype": "text/x-python",
   "name": "python",
   "nbconvert_exporter": "python",
   "pygments_lexer": "ipython3",
   "version": "3.11.0"
  },
  "orig_nbformat": 4,
  "vscode": {
   "interpreter": {
    "hash": "e798c0f93ab5b8c36e59ce474f8f9d1fc0443172380f1fb19344496856dfb0f7"
   }
  }
 },
 "nbformat": 4,
 "nbformat_minor": 2
}
