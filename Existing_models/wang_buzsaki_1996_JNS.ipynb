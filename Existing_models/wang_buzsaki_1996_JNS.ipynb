{
 "cells": [
  {
   "cell_type": "code",
   "execution_count": null,
   "metadata": {},
   "outputs": [],
   "source": [
    "from brian2 import *"
   ]
  },
  {
   "cell_type": "code",
   "execution_count": null,
   "metadata": {},
   "outputs": [],
   "source": [
    "\n",
    "\n",
    "defaultclock.dt = 0.01*ms\n",
    "\n",
    "Cm = 1*uF # /cm**2\n",
    "Iapp = 2*uA\n",
    "gL = 0.1*msiemens\n",
    "EL = -65*mV\n",
    "ENa = 55*mV\n",
    "EK = -90*mV\n",
    "gNa = 35*msiemens\n",
    "gK = 9*msiemens\n",
    "\n",
    "eqs = '''\n",
    "dv/dt = (-gNa*m**3*h*(v-ENa)-gK*n**4*(v-EK)-gL*(v-EL)+Iapp)/Cm : volt\n",
    "m = alpha_m/(alpha_m+beta_m) : 1\n",
    "alpha_m = 0.1/mV*10*mV/exprel(-(v+35*mV)/(10*mV))/ms : Hz\n",
    "beta_m = 4*exp(-(v+60*mV)/(18*mV))/ms : Hz\n",
    "dh/dt = 5*(alpha_h*(1-h)-beta_h*h) : 1\n",
    "alpha_h = 0.07*exp(-(v+58*mV)/(20*mV))/ms : Hz\n",
    "beta_h = 1./(exp(-0.1/mV*(v+28*mV))+1)/ms : Hz\n",
    "dn/dt = 5*(alpha_n*(1-n)-beta_n*n) : 1\n",
    "alpha_n = 0.01/mV*10*mV/exprel(-(v+34*mV)/(10*mV))/ms : Hz\n",
    "beta_n = 0.125*exp(-(v+44*mV)/(80*mV))/ms : Hz\n",
    "'''\n",
    "\n",
    "neuron = NeuronGroup(1, eqs, method='exponential_euler')\n",
    "neuron.v = -70*mV\n",
    "neuron.h = 1\n",
    "M = StateMonitor(neuron, 'v', record=0)\n",
    "\n",
    "run(100*ms, report='text')\n",
    "\n",
    "plot(M.t/ms, M[0].v/mV)\n",
    "show()"
   ]
  }
 ],
 "metadata": {
  "kernelspec": {
   "display_name": "hpc_modelling",
   "language": "python",
   "name": "python3"
  },
  "language_info": {
   "name": "python",
   "version": "3.11.0 | packaged by conda-forge | (main, Oct 25 2022, 06:12:32) [MSC v.1929 64 bit (AMD64)]"
  },
  "orig_nbformat": 4,
  "vscode": {
   "interpreter": {
    "hash": "e798c0f93ab5b8c36e59ce474f8f9d1fc0443172380f1fb19344496856dfb0f7"
   }
  }
 },
 "nbformat": 4,
 "nbformat_minor": 2
}
