{
 "cells": [
  {
   "cell_type": "code",
   "execution_count": null,
   "metadata": {},
   "outputs": [],
   "source": []
  },
  {
   "attachments": {},
   "cell_type": "markdown",
   "metadata": {},
   "source": [
    "Basic model of CA3-CA2-CA1 using basic integrate and fire neurons with adaptation "
   ]
  },
  {
   "attachments": {},
   "cell_type": "markdown",
   "metadata": {},
   "source": [
    "Papers with relevant biophysical information:\n",
    "\n",
    "Interneurons - Soltsez/Losonczky papers - \n",
    "\n",
    "CA2 - Koharha et al Nat neuro. 14\n",
    "      Qian et al. Elife\n",
    "      Piskorowski and Chevaleyre Cell. Mol. Life Sci. 12  \n",
    "      Chevalyre and Siegelbaum 10\n",
    "CA1 - check\n",
    "CA3 - check - likely Jonas papers"
   ]
  },
  {
   "cell_type": "markdown",
   "metadata": {},
   "source": []
  }
 ],
 "metadata": {
  "language_info": {
   "name": "python"
  },
  "orig_nbformat": 4
 },
 "nbformat": 4,
 "nbformat_minor": 2
}
