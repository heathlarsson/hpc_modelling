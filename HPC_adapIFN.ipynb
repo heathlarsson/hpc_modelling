{
 "cells": [
  {
   "cell_type": "code",
   "execution_count": null,
   "metadata": {},
   "outputs": [],
   "source": [
    "from brian2 import*"
   ]
  },
  {
   "attachments": {},
   "cell_type": "markdown",
   "metadata": {},
   "source": [
    "Basic model of CA3-CA2-CA1 using basic integrate and fire neurons with adaptation "
   ]
  },
  {
   "attachments": {},
   "cell_type": "markdown",
   "metadata": {},
   "source": [
    "Papers with relevant biophysical information:\n",
    "\n",
    "Interneurons - Soltsez/Losonczky papers - \n",
    "\n",
    "CA2 - Koharha et al Nat neuro. 14\n",
    "      Qian et al. Elife\n",
    "      Piskorowski and Chevaleyre Cell. Mol. Life Sci. 12  \n",
    "      Chevalyre and Siegelbaum 10\n",
    "CA1 - check\n",
    "CA3 - check - likely Jonas papers"
   ]
  },
  {
   "cell_type": "code",
   "execution_count": null,
   "metadata": {},
   "outputs": [],
   "source": [
    "#CA1 specific neuron params\n",
    "\n",
    "Vr_ca1 = -70. *mV   #check\n",
    "vt_ca1 = -45     #check\n",
    "theta_ca1 = Vr_ca1\n",
    "x_reset_ca1 = 1.  #check - might be more arbitrary model param\n",
    "tau_ca1 = 15. *ms # check will be well est\n",
    "ltd_amp_ca1 - 1.53-4  #check clopath for correctness\n",
    "\n",
    "\n"
   ]
  }
 ],
 "metadata": {
  "kernelspec": {
   "display_name": "hpc_modelling",
   "language": "python",
   "name": "python3"
  },
  "language_info": {
   "name": "python",
   "version": "3.11.0 | packaged by conda-forge | (main, Oct 25 2022, 06:12:32) [MSC v.1929 64 bit (AMD64)]"
  },
  "orig_nbformat": 4,
  "vscode": {
   "interpreter": {
    "hash": "e798c0f93ab5b8c36e59ce474f8f9d1fc0443172380f1fb19344496856dfb0f7"
   }
  }
 },
 "nbformat": 4,
 "nbformat_minor": 2
}
