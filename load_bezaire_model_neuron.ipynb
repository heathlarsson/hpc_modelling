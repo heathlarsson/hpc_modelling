{
 "cells": [
  {
   "cell_type": "code",
   "execution_count": 9,
   "metadata": {},
   "outputs": [
    {
     "name": "stderr",
     "output_type": "stream",
     "text": [
      "NEURON: Couldn't find: X:/home/Heath/comp_models/modeldbca1/modeldbca1/CAD.mod\n",
      " near line 0\n",
      " ^\n",
      "NEURON: Couldn't find: X:/home/Heath/comp_models/modeldbca1/modeldbca1/I_A.mod\n",
      " near line 0\n",
      " ^\n",
      "NEURON: Couldn't find: X:/home/Heath/comp_models/modeldbca1/modeldbca1/I_CaH.mod\n",
      " near line 0\n",
      " ^\n",
      "NEURON: Couldn't find: X:/home/Heath/comp_models/modeldbca1/modeldbca1/I_h.mod\n",
      " near line 0\n",
      " ^\n",
      "NEURON: Couldn't find: X:/home/Heath/comp_models/modeldbca1/modeldbca1/I_KCa.mod\n",
      " near line 0\n",
      " ^\n",
      "NEURON: Couldn't find: X:/home/Heath/comp_models/modeldbca1/modeldbca1/I_Kd.mod\n",
      " near line 0\n",
      " ^\n",
      "NEURON: Couldn't find: X:/home/Heath/comp_models/modeldbca1/modeldbca1/IT2.mod\n",
      " near line 0\n",
      " ^\n",
      "NEURON: Couldn't find: X:/home/Heath/comp_models/modeldbca1/modeldbca1/k_fast.mod\n",
      " near line 0\n",
      " ^\n",
      "NEURON: Couldn't find: X:/home/Heath/comp_models/modeldbca1/modeldbca1/k_slow.mod\n",
      " near line 0\n",
      " ^\n",
      "NEURON: Couldn't find: X:/home/Heath/comp_models/modeldbca1/modeldbca1/Nap_Et2.mod\n",
      " near line 0\n",
      " ^\n",
      "NEURON: Couldn't find: X:/home/Heath/comp_models/modeldbca1/modeldbca1/NaTs2_t.mod\n",
      " near line 0\n",
      " ^\n"
     ]
    },
    {
     "ename": "AttributeError",
     "evalue": "module 'simtool' has no attribute 'simulation'",
     "output_type": "error",
     "traceback": [
      "\u001b[1;31m---------------------------------------------------------------------------\u001b[0m",
      "\u001b[1;31mAttributeError\u001b[0m                            Traceback (most recent call last)",
      "Cell \u001b[1;32mIn[9], line 23\u001b[0m\n\u001b[0;32m     20\u001b[0m h\u001b[39m.\u001b[39mload_file(\u001b[39m\"\u001b[39m\u001b[39mX:/home/Heath/comp_models/modeldbca1/modeldbca1/NaTs2_t.mod\u001b[39m\u001b[39m\"\u001b[39m)\n\u001b[0;32m     22\u001b[0m \u001b[39m# create a new simulation tool instance\u001b[39;00m\n\u001b[1;32m---> 23\u001b[0m sim \u001b[39m=\u001b[39m stm\u001b[39m.\u001b[39;49msimulation()\n\u001b[0;32m     25\u001b[0m \u001b[39m# create the cell object from the hoc file\u001b[39;00m\n\u001b[0;32m     26\u001b[0m h\u001b[39m.\u001b[39mload_file(\u001b[39m\"\u001b[39m\u001b[39mX:/home/Heath/comp_models/modeldbca1/modeldbca1/L4Net.hoc\u001b[39m\u001b[39m\"\u001b[39m)\n",
      "\u001b[1;31mAttributeError\u001b[0m: module 'simtool' has no attribute 'simulation'"
     ]
    }
   ],
   "source": [
    "\n",
    "# Load the mod files using stimtoodb\n",
    "path_data = ( r\"X:\\home\\Heath\\comp_models\\modeldbca1\\modeldbca1\") #path to model directory\n",
    "\n",
    "import neuron\n",
    "from neuron import h\n",
    "import simtool as stm\n",
    "import inspect  # add to import inspect\n",
    "\n",
    "# load the model file\n",
    "h.load_file(\"X:/home/Heath/comp_models/modeldbca1/modeldbca1/CAD.mod\")\n",
    "h.load_file(\"X:/home/Heath/comp_models/modeldbca1/modeldbca1/I_A.mod\")\n",
    "h.load_file(\"X:/home/Heath/comp_models/modeldbca1/modeldbca1/I_CaH.mod\")\n",
    "h.load_file(\"X:/home/Heath/comp_models/modeldbca1/modeldbca1/I_h.mod\")\n",
    "h.load_file(\"X:/home/Heath/comp_models/modeldbca1/modeldbca1/I_KCa.mod\")\n",
    "h.load_file(\"X:/home/Heath/comp_models/modeldbca1/modeldbca1/I_Kd.mod\")\n",
    "h.load_file(\"X:/home/Heath/comp_models/modeldbca1/modeldbca1/IT2.mod\")\n",
    "h.load_file(\"X:/home/Heath/comp_models/modeldbca1/modeldbca1/k_fast.mod\")\n",
    "h.load_file(\"X:/home/Heath/comp_models/modeldbca1/modeldbca1/k_slow.mod\")\n",
    "h.load_file(\"X:/home/Heath/comp_models/modeldbca1/modeldbca1/Nap_Et2.mod\")\n",
    "h.load_file(\"X:/home/Heath/comp_models/modeldbca1/modeldbca1/NaTs2_t.mod\")\n",
    "\n",
    "# create a new simulation tool instance\n",
    "sim = stm.simulation()\n",
    "\n",
    "# create the cell object from the hoc file\n",
    "h.load_file(\"X:/home/Heath/comp_models/modeldbca1/modeldbca1/L4Net.hoc\")\n",
    "cell = stm.utils._BlockContext__last_block()  # get the last block added\n",
    "\n",
    "# define the stimulus protocol\n",
    "iclamp = h.IClamp(cell.soma[0](0.5))\n",
    "iclamp.delay = 100  # ms\n",
    "iclamp.dur = 200   # ms\n",
    "iclamp.amp = 1.    # nA\n",
    "\n",
    "# define the recording vectors\n",
    "tvec = h.Vector().record(h._ref_t)\n",
    "vvec = h.Vector().record(cell.soma[0](0.5)._ref_v)\n",
    "\n",
    "# run the simulation\n",
    "sim.run(tstop=400, dt=0.01)\n",
    "\n",
    "# plot the results\n",
    "try:\n",
    "    import matplotlib.pyplot as plt\n",
    "    plt.plot(tvec, vvec)\n",
    "    plt.xlabel('Time (ms)')\n",
    "    plt.ylabel('Membrane Potential (mV)')\n",
    "    plt.show()\n",
    "except ImportError:\n",
    "    print(\"Matplotlib not found. Cannot display plot.\")\n"
   ]
  }
 ],
 "metadata": {
  "kernelspec": {
   "display_name": "hpc_modelling",
   "language": "python",
   "name": "python3"
  },
  "language_info": {
   "codemirror_mode": {
    "name": "ipython",
    "version": 3
   },
   "file_extension": ".py",
   "mimetype": "text/x-python",
   "name": "python",
   "nbconvert_exporter": "python",
   "pygments_lexer": "ipython3",
   "version": "3.11.0"
  },
  "orig_nbformat": 4
 },
 "nbformat": 4,
 "nbformat_minor": 2
}
